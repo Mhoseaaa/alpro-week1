{
 "cells": [
  {
   "cell_type": "code",
   "execution_count": 16,
   "id": "defa925f",
   "metadata": {},
   "outputs": [
    {
     "name": "stdout",
     "output_type": "stream",
     "text": [
      "Jumlah tahun yang dibutuhkan  : 8 tahun\n",
      "Jumlah uang yang terkumpul    : Rp428,717,762.00\n"
     ]
    }
   ],
   "source": [
    "  # Erika memiliki uang 200 juta rupiah dan ingin disimpan di deposito Pasti Cuan sampai uangnya menjadi \n",
    "  # minimal 400 juta, Berapa lama waktu yang dibutuhkan? \n",
    "  # Catatan: bunga 10% per-tahun.\n",
    "\n",
    "# variabel\n",
    "jumlah_uang_awal = 200_000_000  # dalam rupiah\n",
    "target_uang = 400_000_000  # dalam rupiah\n",
    "bunga_tahunan = 0.10  # 10%\n",
    "\n",
    "# Inisialisasi variabel tambahan\n",
    "total_uang = jumlah_uang_awal\n",
    "tahun = 0\n",
    "\n",
    "# Loop sampai total uang mencapai target\n",
    "while total_uang < target_uang:\n",
    "    bunga = total_uang * bunga_tahunan\n",
    "    total_uang += bunga\n",
    "    tahun += 1\n",
    "\n",
    "# Output\n",
    "print(\"Jumlah tahun yang dibutuhkan  : {}\".format(tahun), \"tahun\")\n",
    "print(\"Jumlah uang yang terkumpul    : Rp{:,.2f}\".format(total_uang))"
   ]
  },
  {
   "cell_type": "code",
   "execution_count": null,
   "id": "1f78ea87",
   "metadata": {},
   "outputs": [],
   "source": []
  },
  {
   "cell_type": "code",
   "execution_count": null,
   "id": "32ee6819",
   "metadata": {},
   "outputs": [],
   "source": []
  },
  {
   "cell_type": "code",
   "execution_count": null,
   "id": "ee7cf595",
   "metadata": {},
   "outputs": [],
   "source": []
  }
 ],
 "metadata": {
  "kernelspec": {
   "display_name": "Python 3 (ipykernel)",
   "language": "python",
   "name": "python3"
  },
  "language_info": {
   "codemirror_mode": {
    "name": "ipython",
    "version": 3
   },
   "file_extension": ".py",
   "mimetype": "text/x-python",
   "name": "python",
   "nbconvert_exporter": "python",
   "pygments_lexer": "ipython3",
   "version": "3.11.5"
  }
 },
 "nbformat": 4,
 "nbformat_minor": 5
}
