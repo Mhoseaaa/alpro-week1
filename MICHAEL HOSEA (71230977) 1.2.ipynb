{
 "cells": [
  {
   "cell_type": "code",
   "execution_count": 11,
   "id": "7ffb4665",
   "metadata": {},
   "outputs": [
    {
     "name": "stdout",
     "output_type": "stream",
     "text": [
      "Emas Gerard        :  25 gram\n",
      "Profit (Nominal)   :  Rp 875000\n",
      "Profit (Persen)    :  5.384615384615385 %\n",
      "Total Emas Gerard  :  40 gram\n",
      "Profit (Nominal)   :  Rp 2075000\n",
      "Profit (Persen)    :  7.822808671065033 %\n"
     ]
    }
   ],
   "source": [
    "# Gerard membeli emas 25 gram dengan harga Rp. 650.000/gram. Jika sekarang\n",
    "# harga emas menjadi Rp. 685.000/gram,\n",
    "# • Berapa keuntungan yang didapat oleh Gerard (dalam Rp dan dalam %)?\n",
    "# • Jika Gerard kemudian membeli lagi 15 gram emas dengan harga Rp. 685.000, maka\n",
    "# Gerard sekarang memiliki total 40 gram emas. Jika kemudian harga emas naik lagi\n",
    "# menjadi Rp. 715.000, berapa keuntungan yang didapat oleh Gerard (dalam Rp dan dalam %)?\n",
    "\n",
    "# Emas dan Harga\n",
    "# E untuk Emas, HEL untuk Harga Emas Lama, dan HEB untuk Harga Emas Baru\n",
    "E = 25\n",
    "HEL = 650000\n",
    "HEB = 685000\n",
    "\n",
    "# Keutungan\n",
    "# PRP untuk Profit secara RP/Rupiah dan PP untuk Profit secara persen\n",
    "PRP = (HEB * E)-(HEL * E)\n",
    "PP = float((PRP * 100)/ (HEL * E))\n",
    "\n",
    "print(\"Emas Gerard        : \", E, \"gram\")\n",
    "print(\"Profit (Nominal)   : \", \"Rp\",PRP)\n",
    "print(\"Profit (Persen)    : \",PP, \"%\" )\n",
    "\n",
    "\n",
    "# Penambahan Emas dan Kenaikan Harga Emas\n",
    "# TE untuk Tambahan Emas, TET untuk Total Emas Terkumpul, dan KHE untuk Kenaikan Harga Emas\n",
    "TE  = 15\n",
    "TET = TE + E\n",
    "KHE = 715000\n",
    "\n",
    "# TPN untuk Total Profit Nominal, TPP untuk Total Profit Persen\n",
    "TPN = (TET * KHE) - (HEL * E) - (TE * HEB)\n",
    "TPP = float((TPN * 100) / ((E * HEL) + (TE * HEB)))\n",
    "\n",
    "print(\"Total Emas Gerard  : \",TET, \"gram\")\n",
    "print(\"Profit (Nominal)   : \", \"Rp\",TPN)\n",
    "print(\"Profit (Persen)    : \",TPP, \"%\" )\n",
    "\n",
    "\n",
    "\n"
   ]
  },
  {
   "cell_type": "code",
   "execution_count": null,
   "id": "45f19237",
   "metadata": {},
   "outputs": [],
   "source": []
  },
  {
   "cell_type": "code",
   "execution_count": null,
   "id": "5b1e8062",
   "metadata": {},
   "outputs": [],
   "source": []
  },
  {
   "cell_type": "code",
   "execution_count": null,
   "id": "08e28dc5",
   "metadata": {},
   "outputs": [],
   "source": []
  }
 ],
 "metadata": {
  "kernelspec": {
   "display_name": "Python 3 (ipykernel)",
   "language": "python",
   "name": "python3"
  },
  "language_info": {
   "codemirror_mode": {
    "name": "ipython",
    "version": 3
   },
   "file_extension": ".py",
   "mimetype": "text/x-python",
   "name": "python",
   "nbconvert_exporter": "python",
   "pygments_lexer": "ipython3",
   "version": "3.11.5"
  }
 },
 "nbformat": 4,
 "nbformat_minor": 5
}
